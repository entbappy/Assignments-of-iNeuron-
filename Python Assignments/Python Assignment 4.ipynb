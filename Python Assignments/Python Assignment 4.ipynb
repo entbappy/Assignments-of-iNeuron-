{
 "cells": [
  {
   "cell_type": "markdown",
   "metadata": {},
   "source": [
    "# 1. Problem\n",
    "Write a Python Program(with class concepts) to find the area of the triangle using the below \n",
    "formula.\n",
    "- area = (s*(s-a)*(s-b)*(s-c)) ** 0.5\n",
    "\n",
    "Function to take the length of the sides of triangle from user should be defined in the parent \n",
    "class and function to calculate the area should be defined in subclass."
   ]
  },
  {
   "cell_type": "code",
   "execution_count": 34,
   "metadata": {},
   "outputs": [
    {
     "name": "stdout",
     "output_type": "stream",
     "text": [
      "Enter a = 2.2\n",
      "Enter b = 3.3\n",
      "Enter c = 4.4\n",
      "The area is = 3.5147323866832307\n"
     ]
    }
   ],
   "source": [
    "class Triangle_side:\n",
    "    def __init__(self):\n",
    "        self.a = float(input(\"Enter a = \"))\n",
    "        self.b = float(input(\"Enter b = \"))\n",
    "        self.c = float(input(\"Enter c = \"))\n",
    "\n",
    "\n",
    "class Calculate_triangle_area(Triangle_side):\n",
    "    \n",
    "    def area(self):\n",
    "        s = (self.a + self.b + self.c) / 2\n",
    "        return (s*(s-self.a)*(s-self.b)*(s-self.c)) ** 0.5\n",
    "\n",
    "\n",
    "\n",
    "obj = Calculate_triangle_area()\n",
    "print(f\"The area is = {obj.area()}\")\n"
   ]
  },
  {
   "cell_type": "markdown",
   "metadata": {},
   "source": [
    "# 2. Problem:\n",
    "Write a function filter_long_words() that takes a list of words and an integer n and returns \n",
    "the list of words that are longer than n."
   ]
  },
  {
   "cell_type": "code",
   "execution_count": 36,
   "metadata": {},
   "outputs": [],
   "source": [
    "def filter_long_words(words, n):\n",
    "    _long = []\n",
    "    for word in words:\n",
    "        if len(word) > n:\n",
    "            _long.append(word)\n",
    "    return _long\n"
   ]
  },
  {
   "cell_type": "code",
   "execution_count": 42,
   "metadata": {},
   "outputs": [
    {
     "name": "stdout",
     "output_type": "stream",
     "text": [
      "['bappy', 'ahmedbappy', 'elongated', 'bowl']\n"
     ]
    }
   ],
   "source": [
    "words = ['bappy','phi', 'eta','ahmedbappy','elongated','bowl','a','b']\n",
    "n = 3\n",
    "\n",
    "print(filter_long_words(words,n))"
   ]
  },
  {
   "cell_type": "markdown",
   "metadata": {},
   "source": [
    "# 3. Problem:\n",
    "Write a Python program using function concept that maps list of words into a list of integers \n",
    "representing the lengths of the corresponding words.\n",
    "Hint: If a list [ ab,cde,erty] is passed on to the python function output should come as [2,3,4]\n",
    "Here 2,3 and 4 are the lengths of the words in the list.\n"
   ]
  },
  {
   "cell_type": "code",
   "execution_count": 44,
   "metadata": {},
   "outputs": [],
   "source": [
    "def words_map(words):\n",
    "    num = []\n",
    "    for word in words:\n",
    "        n = len(word)\n",
    "        num.append(n)\n",
    "    return num"
   ]
  },
  {
   "cell_type": "code",
   "execution_count": 45,
   "metadata": {},
   "outputs": [
    {
     "name": "stdout",
     "output_type": "stream",
     "text": [
      "[5, 3, 3, 10, 9, 4, 1, 1]\n"
     ]
    }
   ],
   "source": [
    "words = ['bappy','phi', 'eta','ahmedbappy','elongated','bowl','a','b']\n",
    "\n",
    "print(words_map(words))"
   ]
  },
  {
   "cell_type": "markdown",
   "metadata": {},
   "source": [
    "# 4. Problem:\n",
    "Write a Python function which takes a character (i.e. a string of length 1) and returns True if \n",
    "it is a vowel, False otherwise.\n"
   ]
  },
  {
   "cell_type": "code",
   "execution_count": 46,
   "metadata": {},
   "outputs": [],
   "source": [
    "def vowel(char):\n",
    "    _vowel = ['a','e','i','o','u']\n",
    "    \n",
    "    char = char.lower()\n",
    "    if char in _vowel:\n",
    "        return True\n",
    "    else:\n",
    "        return False"
   ]
  },
  {
   "cell_type": "code",
   "execution_count": 48,
   "metadata": {},
   "outputs": [
    {
     "name": "stdout",
     "output_type": "stream",
     "text": [
      "True\n"
     ]
    }
   ],
   "source": [
    "char = 'A'\n",
    "print(vowel(char))"
   ]
  },
  {
   "cell_type": "code",
   "execution_count": null,
   "metadata": {},
   "outputs": [],
   "source": []
  }
 ],
 "metadata": {
  "kernelspec": {
   "display_name": "Python 3",
   "language": "python",
   "name": "python3"
  },
  "language_info": {
   "codemirror_mode": {
    "name": "ipython",
    "version": 3
   },
   "file_extension": ".py",
   "mimetype": "text/x-python",
   "name": "python",
   "nbconvert_exporter": "python",
   "pygments_lexer": "ipython3",
   "version": "3.8.5"
  }
 },
 "nbformat": 4,
 "nbformat_minor": 4
}
